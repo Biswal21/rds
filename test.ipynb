{
 "cells": [
  {
   "cell_type": "code",
   "execution_count": 2,
   "metadata": {},
   "outputs": [],
   "source": [
    "import pandas as pd"
   ]
  },
  {
   "cell_type": "code",
   "execution_count": 3,
   "metadata": {},
   "outputs": [],
   "source": [
    "import requests\n",
    "from datetime import datetime, timedelta\n",
    "import json"
   ]
  },
  {
   "cell_type": "code",
   "execution_count": 4,
   "metadata": {},
   "outputs": [],
   "source": [
    "BASE_API_URL='https://www.nseindia.com/'\n"
   ]
  },
  {
   "cell_type": "code",
   "execution_count": 5,
   "metadata": {},
   "outputs": [],
   "source": [
    "headers={'User-agent': 'Mozilla/5.0 (X11; Linux x86_64) AppleWebKit/537.36 (KHTML, like Gecko) Chrome/121.0.0.0 Safari/537.36 Edg/121.0.0.0',\n",
    "           'Accept-Language': 'en,gu;q=0.9,hi;q=0.8', 'Accept-Encoding': 'gzip, deflate, br', 'Accept':'*/*'}"
   ]
  },
  {
   "cell_type": "code",
   "execution_count": 6,
   "metadata": {},
   "outputs": [],
   "source": [
    "params = {'index': 'equities', 'from_date': '01-03-2023', 'to_date': '29-02-2024'}"
   ]
  },
  {
   "cell_type": "code",
   "execution_count": 7,
   "metadata": {},
   "outputs": [],
   "source": [
    "session = requests.Session()\n",
    "session_response = session.get(BASE_API_URL,headers=headers, timeout=5)\n",
    "cookies = dict(session_response.cookies) \n"
   ]
  },
  {
   "cell_type": "code",
   "execution_count": 8,
   "metadata": {},
   "outputs": [
    {
     "name": "stdout",
     "output_type": "stream",
     "text": [
      "XBRL Reports URL:  https://www.nseindia.com/api/corporate-bussiness-sustainabilitiy?index=equities&from_date=01-03-2023&to_date=29-02-2024\n",
      "Reports downloaded successfully!\n"
     ]
    }
   ],
   "source": [
    "api_url = BASE_API_URL + 'api/corporate-bussiness-sustainabilitiy'\n",
    "response = session.get(api_url, headers=headers, cookies=cookies, params=params)\n",
    "print(\"XBRL Reports URL: \",response.url)\n",
    "json_data= {}\n",
    "if response.status_code == 200:\n",
    "    print(\"Reports downloaded successfully!\")\n",
    "    json_data = response.json()\n",
    "else:\n",
    "    print(\"Failed to download reports. Status code:\", response.status_code)"
   ]
  },
  {
   "cell_type": "code",
   "execution_count": 9,
   "metadata": {},
   "outputs": [
    {
     "data": {
      "text/html": [
       "<div>\n",
       "<style scoped>\n",
       "    .dataframe tbody tr th:only-of-type {\n",
       "        vertical-align: middle;\n",
       "    }\n",
       "\n",
       "    .dataframe tbody tr th {\n",
       "        vertical-align: top;\n",
       "    }\n",
       "\n",
       "    .dataframe thead th {\n",
       "        text-align: right;\n",
       "    }\n",
       "</style>\n",
       "<table border=\"1\" class=\"dataframe\">\n",
       "  <thead>\n",
       "    <tr style=\"text-align: right;\">\n",
       "      <th></th>\n",
       "      <th>symbol</th>\n",
       "      <th>companyName</th>\n",
       "      <th>fyFrom</th>\n",
       "      <th>fyTo</th>\n",
       "      <th>attachmentFile</th>\n",
       "      <th>xbrlFile</th>\n",
       "      <th>submissionDate</th>\n",
       "      <th>revisionDate</th>\n",
       "    </tr>\n",
       "  </thead>\n",
       "  <tbody>\n",
       "    <tr>\n",
       "      <th>0</th>\n",
       "      <td>CASTROLIND</td>\n",
       "      <td>Castrol India Limited</td>\n",
       "      <td>2023</td>\n",
       "      <td>2023</td>\n",
       "      <td>https://nsearchives.nseindia.com/corporate/CAS...</td>\n",
       "      <td>https://nsearchives.nseindia.com/corporate/xbr...</td>\n",
       "      <td>29-Feb-2024</td>\n",
       "      <td>-</td>\n",
       "    </tr>\n",
       "    <tr>\n",
       "      <th>1</th>\n",
       "      <td>ASAL</td>\n",
       "      <td>Automotive Stampings and Assemblies Limited</td>\n",
       "      <td>2022</td>\n",
       "      <td>2023</td>\n",
       "      <td>https://nsearchives.nseindia.com/corporate/ASA...</td>\n",
       "      <td>https://nsearchives.nseindia.com/corporate/xbr...</td>\n",
       "      <td>23-Jan-2024</td>\n",
       "      <td>-</td>\n",
       "    </tr>\n",
       "    <tr>\n",
       "      <th>2</th>\n",
       "      <td>SIEMENS</td>\n",
       "      <td>Siemens Limited</td>\n",
       "      <td>2022</td>\n",
       "      <td>2023</td>\n",
       "      <td>https://nsearchives.nseindia.com/corporate/SIE...</td>\n",
       "      <td>https://nsearchives.nseindia.com/corporate/xbr...</td>\n",
       "      <td>18-Jan-2024</td>\n",
       "      <td>-</td>\n",
       "    </tr>\n",
       "    <tr>\n",
       "      <th>3</th>\n",
       "      <td>SAIL</td>\n",
       "      <td>Steel Authority of India Limited</td>\n",
       "      <td>2022</td>\n",
       "      <td>2023</td>\n",
       "      <td>https://nsearchives.nseindia.com/corporate/SAI...</td>\n",
       "      <td>https://nsearchives.nseindia.com/corporate/xbr...</td>\n",
       "      <td>17-Jan-2024</td>\n",
       "      <td>-</td>\n",
       "    </tr>\n",
       "    <tr>\n",
       "      <th>4</th>\n",
       "      <td>RGL</td>\n",
       "      <td>Renaissance Global Limited</td>\n",
       "      <td>2022</td>\n",
       "      <td>2023</td>\n",
       "      <td>https://nsearchives.nseindia.com/corporate/RJL...</td>\n",
       "      <td>https://nsearchives.nseindia.com/corporate/xbr...</td>\n",
       "      <td>12-Jan-2024</td>\n",
       "      <td>-</td>\n",
       "    </tr>\n",
       "  </tbody>\n",
       "</table>\n",
       "</div>"
      ],
      "text/plain": [
       "       symbol                                  companyName  fyFrom  fyTo  \\\n",
       "0  CASTROLIND                        Castrol India Limited    2023  2023   \n",
       "1        ASAL  Automotive Stampings and Assemblies Limited    2022  2023   \n",
       "2     SIEMENS                              Siemens Limited    2022  2023   \n",
       "3        SAIL             Steel Authority of India Limited    2022  2023   \n",
       "4         RGL                   Renaissance Global Limited    2022  2023   \n",
       "\n",
       "                                      attachmentFile  \\\n",
       "0  https://nsearchives.nseindia.com/corporate/CAS...   \n",
       "1  https://nsearchives.nseindia.com/corporate/ASA...   \n",
       "2  https://nsearchives.nseindia.com/corporate/SIE...   \n",
       "3  https://nsearchives.nseindia.com/corporate/SAI...   \n",
       "4  https://nsearchives.nseindia.com/corporate/RJL...   \n",
       "\n",
       "                                            xbrlFile submissionDate  \\\n",
       "0  https://nsearchives.nseindia.com/corporate/xbr...    29-Feb-2024   \n",
       "1  https://nsearchives.nseindia.com/corporate/xbr...    23-Jan-2024   \n",
       "2  https://nsearchives.nseindia.com/corporate/xbr...    18-Jan-2024   \n",
       "3  https://nsearchives.nseindia.com/corporate/xbr...    17-Jan-2024   \n",
       "4  https://nsearchives.nseindia.com/corporate/xbr...    12-Jan-2024   \n",
       "\n",
       "  revisionDate  \n",
       "0            -  \n",
       "1            -  \n",
       "2            -  \n",
       "3            -  \n",
       "4            -  "
      ]
     },
     "execution_count": 9,
     "metadata": {},
     "output_type": "execute_result"
    }
   ],
   "source": [
    "df = pd.DataFrame()\n",
    "if 'data' in json_data:  # Check if 'data' key exists\n",
    "    data = json_data['data']  # Extract data associated with 'data' key\n",
    "    df = pd.DataFrame(data)\n",
    "\n",
    "df.head()"
   ]
  },
  {
   "cell_type": "code",
   "execution_count": 10,
   "metadata": {},
   "outputs": [],
   "source": [
    "import os\n",
    "\n",
    "def create_folder_if_not_exists(folder_path):\n",
    "    if not os.path.exists(folder_path):\n",
    "        os.makedirs(folder_path)\n",
    "        print(f\"Folder '{folder_path}' created.\")"
   ]
  },
  {
   "cell_type": "code",
   "execution_count": 11,
   "metadata": {},
   "outputs": [],
   "source": [
    "OUTPUT_FOLDER = \"XBRL_Reports\"\n",
    "create_folder_if_not_exists(OUTPUT_FOLDER)\n",
    "    \n",
    "# Create folder based on param1 and param2\n",
    "folder_name = f\"{params['from_date']}~{params['to_date']}\"\n",
    "folder_path = os.path.join(OUTPUT_FOLDER, folder_name)\n",
    "create_folder_if_not_exists(folder_path)"
   ]
  },
  {
   "cell_type": "code",
   "execution_count": 12,
   "metadata": {},
   "outputs": [
    {
     "data": {
      "text/plain": [
       "Index(['symbol', 'companyName', 'fyFrom', 'fyTo', 'attachmentFile', 'xbrlFile',\n",
       "       'submissionDate', 'revisionDate'],\n",
       "      dtype='object')"
      ]
     },
     "execution_count": 12,
     "metadata": {},
     "output_type": "execute_result"
    }
   ],
   "source": [
    "df.columns"
   ]
  },
  {
   "cell_type": "code",
   "execution_count": 13,
   "metadata": {},
   "outputs": [],
   "source": [
    "import threading"
   ]
  },
  {
   "cell_type": "code",
   "execution_count": 14,
   "metadata": {},
   "outputs": [
    {
     "data": {
      "text/plain": [
       "'XBRL_Reports/01-03-2023~29-02-2024'"
      ]
     },
     "execution_count": 14,
     "metadata": {},
     "output_type": "execute_result"
    }
   ],
   "source": [
    "folder_path"
   ]
  },
  {
   "cell_type": "code",
   "execution_count": 15,
   "metadata": {},
   "outputs": [],
   "source": [
    "def download_file(url,symbol,from_to, folder_path, session, headers, cookies):\n",
    "    filename = os.path.join(folder_path, f\"{symbol}_{from_to[0]}_{from_to[1]}_BRSR.xml\")\n",
    "    try:\n",
    "        response = session.get(url, headers=headers, cookies=cookies, timeout=5)\n",
    "\n",
    "        if response.status_code == 200:\n",
    "            with open(filename, 'wb') as f:\n",
    "                f.write(response.content)\n",
    "            print(f\"Downloaded: {filename}\")\n",
    "        else:\n",
    "            print(f\"Failed to download: {filename}, Status code: {response.status_code}\")\n",
    "    except Exception as e:\n",
    "        print(f\"Failed to download: {filename}, Error: {str(e)}\")"
   ]
  },
  {
   "cell_type": "code",
   "execution_count": 20,
   "metadata": {},
   "outputs": [],
   "source": [
    "def download_batch(data, folder_path):\n",
    "    threads = []\n",
    "    for row in data.itertuples(index=False):\n",
    "        url = row.xbrlFile\n",
    "        symbol = row.symbol\n",
    "        from_to = (row.fyFrom, row.fyTo)\n",
    "        thread = threading.Thread(target=download_file, args=(url, symbol,from_to, folder_path, session, headers, cookies))\n",
    "        threads.append(thread)\n",
    "        thread.start()\n",
    "    for thread in threads:\n",
    "        thread.join()"
   ]
  },
  {
   "cell_type": "code",
   "execution_count": 17,
   "metadata": {},
   "outputs": [],
   "source": [
    "def download_in_batches(data_df, folder_path, batch_size):\n",
    "    total_rows = len(data_df)\n",
    "    num_batches = (total_rows + batch_size - 1) // batch_size\n",
    "    for i in range(num_batches):\n",
    "        start_index = i * batch_size\n",
    "        end_index = min((i + 1) * batch_size, total_rows)\n",
    "        batch_data = data_df.iloc[start_index:end_index]\n",
    "        batch_data_len=len(batch_data)\n",
    "        download_batch(batch_data, folder_path)"
   ]
  },
  {
   "cell_type": "code",
   "execution_count": null,
   "metadata": {},
   "outputs": [],
   "source": [
    "small_df= df.iloc[:103]\n",
    "download_in_batches(small_df, folder_path, 5)"
   ]
  },
  {
   "cell_type": "markdown",
   "metadata": {},
   "source": [
    "### Timepass"
   ]
  },
  {
   "cell_type": "code",
   "execution_count": 18,
   "metadata": {},
   "outputs": [
    {
     "data": {
      "text/plain": [
       "200"
      ]
     },
     "execution_count": 18,
     "metadata": {},
     "output_type": "execute_result"
    }
   ],
   "source": [
    "res = session.get('https://nsearchives.nseindia.com/corporate/xbrl/BRSR_1033465_23012024115722_WEB.xml',headers=headers, cookies=cookies, timeout=5)\n",
    "res.status_code"
   ]
  },
  {
   "cell_type": "code",
   "execution_count": 19,
   "metadata": {},
   "outputs": [
    {
     "name": "stdout",
     "output_type": "stream",
     "text": [
      "XBRL_Reports/01-03-2023~29-02-2024/ASAL_2022_2023_BRSR.xml\n",
      "https://nsearchives.nseindia.com/corporate/xbrl/BRSR_1033465_23012024115722_WEB.xml\n",
      "Downloaded: XBRL_Reports/01-03-2023~29-02-2024/ASAL_2022_2023_BRSR.xml\n"
     ]
    }
   ],
   "source": [
    "x_url=\"https://nsearchives.nseindia.com/corporate/xbrl/BRSR_1033465_23012024115722_WEB.xml\"\n",
    "x_symbol=\"ASAL\"\n",
    "ft = (2022, 2023)\n",
    "download_file(x_url, x_symbol, ft, folder_path, session, headers, cookies)"
   ]
  }
 ],
 "metadata": {
  "kernelspec": {
   "display_name": ".venv",
   "language": "python",
   "name": "python3"
  },
  "language_info": {
   "codemirror_mode": {
    "name": "ipython",
    "version": 3
   },
   "file_extension": ".py",
   "mimetype": "text/x-python",
   "name": "python",
   "nbconvert_exporter": "python",
   "pygments_lexer": "ipython3",
   "version": "3.11.6"
  }
 },
 "nbformat": 4,
 "nbformat_minor": 2
}
